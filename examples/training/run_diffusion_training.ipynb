{
 "cells": [
  {
   "cell_type": "markdown",
   "source": [
    "[![Open In Colab](https://colab.research.google.com/assets/colab-badge.svg)](https://colab.research.google.com/github/lexiconium/diffusion-planner/blob/main/examples/training/run_diffusion_training.ipynb)"
   ],
   "metadata": {
    "collapsed": false,
    "pycharm": {
     "name": "#%% md\n"
    }
   }
  },
  {
   "cell_type": "code",
   "execution_count": null,
   "outputs": [],
   "source": [
    "#@title ## Install Dependencies\n",
    "\n",
    "!pip install git+https://github.com/lexiconium/diffusion-planner > /dev/null 2>&1"
   ],
   "metadata": {
    "collapsed": false,
    "pycharm": {
     "name": "#%%\n"
    }
   }
  },
  {
   "cell_type": "code",
   "execution_count": null,
   "outputs": [],
   "source": [
    "#@title ## Import Dependencies\n",
    "\n",
    "import os\n",
    "\n",
    "from diffusers.schedulers import DDPMScheduler\n",
    "from transformers import Trainer, TrainerCallback, TrainerControl, TrainerState, TrainingArguments\n",
    "from transformers.trainer_utils import PREFIX_CHECKPOINT_DIR\n",
    "\n",
    "from diffusion_planner.diffusers import TemporalUnetDiffuserForDDPM\n",
    "from diffusion_planner.models import TemporalUnet\n",
    "from diffusion_planner.utils.data import DatasetForD4RL, DynamicCollatorWithPadding"
   ],
   "metadata": {
    "collapsed": false,
    "pycharm": {
     "name": "#%%\n"
    }
   }
  },
  {
   "cell_type": "code",
   "execution_count": null,
   "outputs": [],
   "source": [
    "#@title ## Configuration\n",
    "\n",
    "#@markdown ---\n",
    "\n",
    "#@markdown #### Data configuration\n",
    "\n",
    "path_or_url = \"https://rail.eecs.berkeley.edu/datasets/offline_rl/gym_mujoco_v2/hopper_expert-v2.hdf5\"  #@param {type:\"string\"}\n",
    "pad_to_multiple_of = 8  #@param {type:\"integer\"}\n",
    "trajectory_type = \"dynamic\"  #@param {type:\"string\"}\n",
    "horizon = None  #@param {type:\"integer\"}\n",
    "max_horizon = None  #@param {type:\"integer\"}\n",
    "min_horizon = 256  #@param {type:\"integer\"}\n",
    "\n",
    "#@markdown #### Model configuration\n",
    "\n",
    "block_out_channels = \"(32, 64, 128, 256)\"  #@param {type:\"string\"}\n",
    "num_layers_per_block = 2  #@param {type:\"integer\"}\n",
    "norm_eps = 1e-5  #@param {type:\"number\"}\n",
    "num_groups = 8  #@param {type:\"integer\"}\n",
    "dropout = 0.0  #@param {type:\"number\"}\n",
    "\n",
    "#@markdown #### Training configuration\n",
    "\n",
    "output_dir = \"outputs\"  #@param {type:\"string\"}\n",
    "do_train = True  #@param {type:\"boolean\"}\n",
    "per_device_train_batch_size = 8  #@param {type:\"integer\"}\n",
    "learning_rate = 2e-4  #@param {type:\"number\"}\n",
    "weight_decay = 1e-2  #@param {type:\"number\"}\n",
    "adam_beta1 = 0.9  #@param {type:\"number\"}\n",
    "adam_beta2 = 0.999  #@param {type:\"number\"}\n",
    "adam_epsilon = 1e-8  #@param {type:\"number\"}\n",
    "num_train_epochs = 1  #@param {type:\"integer\"}\n",
    "lr_scheduler_type = \"linear\"  #@param [\"linear\", \"cosine\", \"cosine_with_restarts\", \"polynomial\", \"constant\", \"constant_with_warmup\"]\n",
    "warmup_ratio = 0.2  #@param {type:\"number\"}\n",
    "warmup_steps = 0  #@param {type:\"integer\"}\n",
    "save_total_limit = 5  #@param {type:\"integer\"}\n",
    "seed = 42  #@param {type:\"integer\"}\n",
    "fp16 = True  #@param {type:\"boolean\"}"
   ],
   "metadata": {
    "collapsed": false,
    "pycharm": {
     "name": "#%%\n"
    }
   }
  },
  {
   "cell_type": "code",
   "execution_count": null,
   "outputs": [],
   "source": [
    "class SaveConfigCallback(TrainerCallback):\n",
    "    def on_save(self, args: TrainingArguments, state: TrainerState, control: TrainerControl, **kwargs):\n",
    "        kwargs[\"model\"].unet.save_config(\n",
    "            os.path.join(args.output_dir, f\"{PREFIX_CHECKPOINT_DIR}-{state.global_step}\", \"model_config.json\")\n",
    "        )\n",
    "\n",
    "\n",
    "dataset = DatasetForD4RL(\n",
    "    path_or_url,\n",
    "    trajectory_type=trajectory_type,\n",
    "    horizon=horizon,\n",
    "    max_horizon=max_horizon,\n",
    "    min_horizon=min_horizon\n",
    ")\n",
    "\n",
    "transition_dim = dataset.observation_dim + dataset.action_dim\n",
    "\n",
    "scheduler = DDPMScheduler()\n",
    "unet = TemporalUnet(\n",
    "    in_channels=transition_dim,\n",
    "    out_channels=transition_dim,\n",
    "    block_out_channels=eval(block_out_channels),\n",
    "    num_layers_per_block=num_layers_per_block,\n",
    "    norm_eps=norm_eps,\n",
    "    num_groups=num_groups,\n",
    "    dropout=dropout\n",
    ")\n",
    "\n",
    "model = TemporalUnetDiffuserForDDPM(unet=unet, scheduler=scheduler)\n",
    "\n",
    "training_args = TrainingArguments(\n",
    "    output_dir=output_dir,\n",
    "    do_train=do_train,\n",
    "    per_device_train_batch_size=per_device_train_batch_size,\n",
    "    learning_rate=learning_rate,\n",
    "    weight_decay=weight_decay,\n",
    "    adam_beta1=adam_beta1,\n",
    "    adam_beta2=adam_beta2,\n",
    "    adam_epsilon=adam_epsilon,\n",
    "    num_train_epochs=num_train_epochs,\n",
    "    lr_scheduler_type=lr_scheduler_type,\n",
    "    warmup_ratio=warmup_ratio,\n",
    "    warmup_steps=warmup_steps,\n",
    "    save_total_limit=save_total_limit,\n",
    "    seed=seed,\n",
    "    fp16=fp16\n",
    ")\n",
    "\n",
    "trainer = Trainer(\n",
    "    model,\n",
    "    args=training_args,\n",
    "    data_collator=DynamicCollatorWithPadding(\n",
    "        pad_to_multiple_of=pad_to_multiple_of\n",
    "    ),\n",
    "    train_dataset=dataset,\n",
    "    callbacks=[SaveConfigCallback]\n",
    ")\n",
    "\n",
    "trainer.train()"
   ],
   "metadata": {
    "collapsed": false,
    "pycharm": {
     "name": "#%%\n"
    }
   }
  }
 ],
 "metadata": {
  "kernelspec": {
   "display_name": "Python 3",
   "language": "python",
   "name": "python3"
  },
  "language_info": {
   "codemirror_mode": {
    "name": "ipython",
    "version": 2
   },
   "file_extension": ".py",
   "mimetype": "text/x-python",
   "name": "python",
   "nbconvert_exporter": "python",
   "pygments_lexer": "ipython2",
   "version": "2.7.6"
  }
 },
 "nbformat": 4,
 "nbformat_minor": 0
}